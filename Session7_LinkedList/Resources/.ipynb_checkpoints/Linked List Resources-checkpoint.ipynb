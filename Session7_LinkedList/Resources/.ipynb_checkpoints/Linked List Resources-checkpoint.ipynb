{
 "cells": [
  {
   "cell_type": "markdown",
   "id": "dcd104df",
   "metadata": {},
   "source": [
    "# Linked List Resources\n",
    "\n",
    "Welcome to the very last notebook that I will be doing for the YNC Hacks Leetcode workshop! Today, I will be going through Linked Lists, a very core part of technical interview questions. Since I will go through most of the theory during the lecture session of my workshop, this notebook will be dedicated towards the implementation part of Linked Lists.\n",
    "\n",
    "This is the class constructor for Linked Lists"
   ]
  },
  {
   "cell_type": "code",
   "execution_count": null,
   "id": "9feba7eb",
   "metadata": {},
   "outputs": [],
   "source": [
    "class ListNode:\n",
    "    def __init__(self, val = 0, next = None):\n",
    "        self.val = val\n",
    "        self.next = next"
   ]
  },
  {
   "cell_type": "code",
   "execution_count": null,
   "id": "324df435",
   "metadata": {},
   "outputs": [],
   "source": []
  },
  {
   "cell_type": "code",
   "execution_count": null,
   "id": "dcccd067",
   "metadata": {},
   "outputs": [],
   "source": []
  },
  {
   "cell_type": "code",
   "execution_count": null,
   "id": "23e46b16",
   "metadata": {},
   "outputs": [],
   "source": []
  },
  {
   "cell_type": "code",
   "execution_count": null,
   "id": "0ac38297",
   "metadata": {},
   "outputs": [],
   "source": []
  },
  {
   "cell_type": "code",
   "execution_count": null,
   "id": "4a8f6881",
   "metadata": {},
   "outputs": [],
   "source": []
  },
  {
   "cell_type": "code",
   "execution_count": null,
   "id": "76750250",
   "metadata": {},
   "outputs": [],
   "source": []
  }
 ],
 "metadata": {
  "kernelspec": {
   "display_name": "Python 3 (ipykernel)",
   "language": "python",
   "name": "python3"
  },
  "language_info": {
   "codemirror_mode": {
    "name": "ipython",
    "version": 3
   },
   "file_extension": ".py",
   "mimetype": "text/x-python",
   "name": "python",
   "nbconvert_exporter": "python",
   "pygments_lexer": "ipython3",
   "version": "3.9.6"
  }
 },
 "nbformat": 4,
 "nbformat_minor": 5
}
