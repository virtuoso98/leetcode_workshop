{
 "cells": [
  {
   "cell_type": "markdown",
   "id": "dcd104df",
   "metadata": {},
   "source": [
    "# Linked List Resources\n",
    "\n",
    "Welcome to the very last notebook that I will be doing for the YNC Hacks Leetcode workshop! Today, I will be going through Linked Lists, a very core part of technical interview questions. Since I will go through most of the theory during the lecture session of my workshop, this notebook will be dedicated towards the implementation part of Linked Lists.\n",
    "\n",
    "This is the Python based class constructor for Linked Lists. In general, a linked list contains\n",
    "- A node that stores its corresponding payload\n",
    "- A reference to the next node (Object reference)\n",
    "\n",
    "In Leetcode, the corresponding constructor is as follows:"
   ]
  },
  {
   "cell_type": "code",
   "execution_count": 1,
   "id": "9feba7eb",
   "metadata": {},
   "outputs": [],
   "source": [
    "class ListNode:\n",
    "    def __init__(self, val = 0, next = None):\n",
    "        self.val = val\n",
    "        self.next = next"
   ]
  },
  {
   "cell_type": "markdown",
   "id": "85aab515",
   "metadata": {},
   "source": [
    "### Constructing a Linked List\n",
    "\n",
    "As with Binary trees, a linked list is represented as an object in Python. However, while a binary tree has a left and right pointer, a linked list only has a pointer to the next element. Here's an example:\n",
    "\n",
    "*Note: Remember that the issue with the 'next' pointer remains. Remember to define a Node as the next pointer, not an ordinary argument as with binary trees. You'll be sorely disappointed!*"
   ]
  },
  {
   "cell_type": "code",
   "execution_count": 5,
   "id": "dcccd067",
   "metadata": {},
   "outputs": [],
   "source": [
    "first = ListNode(1)\n",
    "first.next = ListNode(2)\n",
    "first.next.next = ListNode(3)"
   ]
  },
  {
   "cell_type": "markdown",
   "id": "eb43cc12",
   "metadata": {},
   "source": [
    "### Functions on Linked Lists\n",
    "\n",
    "In general, wrangling with Linked Lists is a little different. For binary trees, you know that your function always starts out at the root node, but for Linked Lists, things could be a little messy. For now, I am going to define a function that traverses through a linked list from a given node to the very end. \n",
    "\n",
    "However, pay attention to the output of the nodes and the input arguments. Think about what's going on and why the function outputs are different. *(Hint: A Linked List function outputs depending on its reference point)*"
   ]
  },
  {
   "cell_type": "code",
   "execution_count": 6,
   "id": "0ac38297",
   "metadata": {},
   "outputs": [
    {
     "name": "stdout",
     "output_type": "stream",
     "text": [
      "Performing function on head node\n",
      "1\n",
      "2\n",
      "3\n",
      "\n",
      "\n",
      "Performing function on node after head node\n",
      "2\n",
      "3\n"
     ]
    }
   ],
   "source": [
    "def print_ll(l):\n",
    "    while l:\n",
    "        print(l.val)\n",
    "        l = l.next\n",
    "        \n",
    "print(\"Performing function on head node\")\n",
    "print_ll(first)\n",
    "\n",
    "print(\"\\n\\nPerforming function on node after head node\")\n",
    "print_ll(first.next)"
   ]
  },
  {
   "cell_type": "markdown",
   "id": "188a1350",
   "metadata": {},
   "source": [
    "### Other operations\n",
    "\n",
    "For Linked Lists, you could do other interesting things, Remember how Linked Lists operate by references? This also means that by changing the reference point of your nodes, you can effectively delete certain nodes. Here's an example:"
   ]
  },
  {
   "cell_type": "code",
   "execution_count": 8,
   "id": "76750250",
   "metadata": {},
   "outputs": [
    {
     "name": "stdout",
     "output_type": "stream",
     "text": [
      "Performing function on head node\n",
      "1\n",
      "2\n",
      "3\n",
      "4\n",
      "Chopping off reference\n",
      "1\n",
      "3\n",
      "4\n"
     ]
    }
   ],
   "source": [
    "second = ListNode(1)\n",
    "second.next = ListNode(2)\n",
    "second.next.next = ListNode(3)\n",
    "second.next.next.next = ListNode(4)\n",
    "\n",
    "print(\"Performing function on head node\")\n",
    "print_ll(second)\n",
    "\n",
    "print(\"Chopping off reference\")\n",
    "second.next = second.next.next\n",
    "print_ll(second)"
   ]
  },
  {
   "cell_type": "markdown",
   "id": "39af236d",
   "metadata": {},
   "source": [
    "### Conclusion\n",
    "\n",
    "This is pretty much all I have for Linked Lists. This is simply a primer for you to understand the basic operations for solving Linked List Problems, so if you'd like to improve even further, please practice!\n",
    "\n",
    "Thank you for staying with me all this time and I really hope this workshop has benefitted you!"
   ]
  }
 ],
 "metadata": {
  "kernelspec": {
   "display_name": "Python 3 (ipykernel)",
   "language": "python",
   "name": "python3"
  },
  "language_info": {
   "codemirror_mode": {
    "name": "ipython",
    "version": 3
   },
   "file_extension": ".py",
   "mimetype": "text/x-python",
   "name": "python",
   "nbconvert_exporter": "python",
   "pygments_lexer": "ipython3",
   "version": "3.7.9"
  }
 },
 "nbformat": 4,
 "nbformat_minor": 5
}
