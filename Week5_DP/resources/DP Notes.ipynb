{
 "cells": [
  {
   "cell_type": "markdown",
   "id": "40169044",
   "metadata": {},
   "source": [
    "# Session 3 - Dynamic Programming\n",
    "\n",
    "In this session, we will briefly go through Dynamic Programming and a few simple examples. For now, let's tackle the question of where dynamic programming came about. Well, this came from the fact that humans have memory: the ability to recall the past, even though it is not happening presently.\n",
    "\n",
    "Similarly, computers are able to do the same. However, if we do not programme the computer to **\"remember\"** previously calculated results, we could be making our processors do unnnecessary and repeated computations. Let's take a look at a classic example: Calculating Fibonacci Numbers recursively top-down.\n",
    "\n",
    "Below, I have defined the fibonacci function with trace and a frequency table showing how many times fib(x) is being called."
   ]
  },
  {
   "cell_type": "code",
   "execution_count": 2,
   "id": "2cb6162b",
   "metadata": {},
   "outputs": [
    {
     "name": "stdout",
     "output_type": "stream",
     "text": [
      "{10: 1, 9: 1, 8: 2, 7: 3, 6: 5, 5: 8, 4: 13, 3: 21, 2: 34, 1: 55, 0: 34}\n"
     ]
    }
   ],
   "source": [
    "count = {}\n",
    "\n",
    "def fib_trace(n):\n",
    "    # Tracking count\n",
    "    if n not in count:\n",
    "        count[n] = 1\n",
    "    else:\n",
    "        count[n] += 1\n",
    "    \n",
    "    # print(f\"Fib {n} has been invoked\")\n",
    "    if n <= 0:\n",
    "        return 0\n",
    "    if n == 1:\n",
    "        return 1\n",
    "    return fib_trace(n - 1) + fib_trace(n - 2)\n",
    "\n",
    "fib_trace(10)\n",
    "print(count)"
   ]
  },
  {
   "cell_type": "markdown",
   "id": "c01ad4f9",
   "metadata": {},
   "source": [
    "As seen from this short demonstration, the same Fibonacci numbers are being calculated multiple times even though there is no need to (Uncomment the print message if you want to see just how many calls there are). If you draw the recursive tree it'd balloon really quickly. However, what if we could **remember** and **store** our past results? Some of you might remember this as an accumulator, but in reality, this is as good as dynamic programming. I'll implement them below, and show you the amount of time it takes for each algorithm:"
   ]
  },
  {
   "cell_type": "code",
   "execution_count": 3,
   "id": "b00e029c",
   "metadata": {},
   "outputs": [],
   "source": [
    "def fib_dp(n):\n",
    "    \"\"\"\n",
    "    DP Method. O(n) complexity\n",
    "    \"\"\"\n",
    "    # fib(0) is 0, fib(1) is 1\n",
    "    dp = [0, 1]\n",
    "    # DP Section\n",
    "    for i in range(2, n + 1):\n",
    "        dp.append(dp[i - 1] + dp[i - 2])\n",
    "    return dp[n]\n",
    "    \n",
    "def fib(n):\n",
    "    \"\"\"\n",
    "    Recursive, non DP version. O(2^n)\n",
    "    \"\"\"\n",
    "    if n <= 1:\n",
    "        return n\n",
    "    return fib(n - 1) + fib(n - 2)"
   ]
  },
  {
   "cell_type": "markdown",
   "id": "12c63f9b",
   "metadata": {},
   "source": [
    "From first glance, they seem like the same thing. The only difference is that one fibonacci number is found ground-up while the other is found top-down. As said earlier, the top-down approach incurs a lot of unnecessary, repeated computation.\n",
    "\n",
    "In sharp contrast, the ground-up approach using **fib_dp** makes use of the fact that we already know the 2 previous numbers required to make the next one. Therefore, we can build our numbers based on previous result and this **added** information prevents us from making unnecessary calculations. Let's examine the difference in performance, which is really massive:"
   ]
  },
  {
   "cell_type": "code",
   "execution_count": 4,
   "id": "3b1cf3e1",
   "metadata": {},
   "outputs": [
    {
     "name": "stdout",
     "output_type": "stream",
     "text": [
      "With Dynamic Programming\n",
      "22 µs ± 266 ns per loop (mean ± std. dev. of 7 runs, 10000 loops each)\n"
     ]
    }
   ],
   "source": [
    "import timeit\n",
    "print(\"With Dynamic Programming\")\n",
    "%timeit for x in range(10): fib_dp(20)"
   ]
  },
  {
   "cell_type": "code",
   "execution_count": 5,
   "id": "e802e3f4",
   "metadata": {},
   "outputs": [
    {
     "name": "stdout",
     "output_type": "stream",
     "text": [
      "Without Dynamic Programming\n",
      "17.7 ms ± 522 µs per loop (mean ± std. dev. of 7 runs, 100 loops each)\n"
     ]
    }
   ],
   "source": [
    "print(\"Without Dynamic Programming\")\n",
    "%timeit for x in range(10): fib(20)"
   ]
  },
  {
   "cell_type": "markdown",
   "id": "6a85bc71",
   "metadata": {},
   "source": [
    "This short demonstration shows why DP is so powerful, and the reason behind my punchline **\"Those who cannot remember the past are condemned to repeat it\"**. In general, Dynamic Programming is a very powerful optimization technique you can use to decrease your runtime complexity while trading some storage space. \n",
    "\n",
    "My last code demo features the top-down version of Fibonacci DP:"
   ]
  },
  {
   "cell_type": "code",
   "execution_count": 6,
   "id": "2f316fef",
   "metadata": {},
   "outputs": [
    {
     "data": {
      "text/plain": [
       "43466557686937456435688527675040625802564660517371780402481729089536555417949051890403879840079255169295922593080322634775209689623239873322471161642996440906533187938298969649928516003704476137795166849228875"
      ]
     },
     "execution_count": 6,
     "metadata": {},
     "output_type": "execute_result"
    }
   ],
   "source": [
    "def fib_topdown(n):\n",
    "    def fib_memo(n, m):\n",
    "        \"\"\"\n",
    "        Find the n'th fibonacci number. Uses memoization.\n",
    "\n",
    "        :param n: the n'th fibonacci number to find\n",
    "        :param m: dictionary used to store previous numbers\n",
    "        :return: the value of the n'th fibonacci number\n",
    "        \"\"\"\n",
    "        # If result already computed\n",
    "        if n in m:\n",
    "            return m[n]\n",
    "        \n",
    "        # Do recursion\n",
    "        answer = fib_memo(n - 1, m) + fib_memo(n - 2, m)\n",
    "        \n",
    "        # Store manually computed answer\n",
    "        m[n] = answer\n",
    "        return answer\n",
    "\n",
    "    m = {1: 1, 2: 1}\n",
    "    return fib_memo(n, m)\n",
    "\n",
    "fib_topdown(1000)"
   ]
  }
 ],
 "metadata": {
  "kernelspec": {
   "display_name": "Python 3 (ipykernel)",
   "language": "python",
   "name": "python3"
  },
  "language_info": {
   "codemirror_mode": {
    "name": "ipython",
    "version": 3
   },
   "file_extension": ".py",
   "mimetype": "text/x-python",
   "name": "python",
   "nbconvert_exporter": "python",
   "pygments_lexer": "ipython3",
   "version": "3.9.6"
  }
 },
 "nbformat": 4,
 "nbformat_minor": 5
}
