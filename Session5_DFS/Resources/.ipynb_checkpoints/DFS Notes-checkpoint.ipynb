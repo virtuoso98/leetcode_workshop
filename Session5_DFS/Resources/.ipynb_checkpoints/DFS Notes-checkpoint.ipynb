{
 "cells": [
  {
   "cell_type": "markdown",
   "id": "de79084d",
   "metadata": {},
   "source": [
    "# Depth-First Search Resources\n",
    "\n",
    "This notebook contains notes for Depth-First Search (DFS), a very core traversal method in computer science. In general, this algorithm starts off at a root ndoe and explores as far as possible along each branch before performing backtracking (visiting other parts).\n",
    "\n",
    "This is contrasted with breadth-first search, which I will discuss in the next week. For now, this notebook is dedicated to introducing you to DFS in Python. Before Recursion in Python is a little less strict than in OCaml. Therefore, recursive notations can be freely placed anywhere in the code, as long as they make sense. In this notebook, I aim to:\n",
    "\n",
    "1. Tracing DFS Functions Using Recursion\n",
    "2. Introduce Binary Tree Constructs in Python\n",
    "3. Show you the L-R Traversal and R-L Traversal methods\n",
    "\n",
    "### Tracing DFS Functions Using Recursion\n",
    "\n",
    "Depth-first Search is a method of traversal which starts at the root node and explores it as deeply as much as possible before backtracking to other nodes. I will first illustrate this idea using the good old factorial function. "
   ]
  },
  {
   "cell_type": "code",
   "execution_count": 23,
   "id": "befb9114",
   "metadata": {},
   "outputs": [
    {
     "name": "stdout",
     "output_type": "stream",
     "text": [
      "Recursive call of fac(5)\n",
      "   Recursive call of fac(4)\n",
      "      Recursive call of fac(3)\n",
      "         Recursive call of fac(2)\n",
      "            Recursive call of fac(1)\n",
      "               Recursive call of fac(0)\n",
      "               Hit Base case\n",
      "            Answer for fac(1): 1\n",
      "         Answer for fac(2): 2\n",
      "      Answer for fac(3): 6\n",
      "   Answer for fac(4): 24\n",
      "Answer for fac(5): 120\n"
     ]
    },
    {
     "data": {
      "text/plain": [
       "120"
      ]
     },
     "execution_count": 23,
     "metadata": {},
     "output_type": "execute_result"
    }
   ],
   "source": [
    "def fac(n, indent = 0):\n",
    "    print(indent * \" \" + \"Recursive call of fac({})\".format(n))\n",
    "    if n == 0:\n",
    "        print(indent * \" \" + \"Hit Base case\")\n",
    "        return 1\n",
    "    ans = n * fac(n - 1, indent + 3)\n",
    "    print(indent * \" \" + \"Answer for fac({}): \".format(n) + str(ans))\n",
    "    return ans\n",
    "\n",
    "fac(5)"
   ]
  },
  {
   "cell_type": "markdown",
   "id": "afa48258",
   "metadata": {},
   "source": []
  },
  {
   "cell_type": "markdown",
   "id": "88cc8ddf",
   "metadata": {},
   "source": [
    "### Recursion, DFS and Stacks\n",
    "\n",
    "You might be wondering why I'm choosing to trace such a simple function. Well, this is because recursion is the basis for DFS. As you have seen from the trace function, it explores from __fac(n)__ to __fac(n-1)__ until it hits the **base case** (The deepest node). While the factorial recursion is 1D in nature, this extends to data structures of further dimensions. \n",
    "\n",
    "This is not all. In fact, \n",
    "\n",
    "### Binary Tree Constructs in Python\n",
    "\n",
    "To recap, a Binary Tree in Python can be inductive "
   ]
  },
  {
   "cell_type": "code",
   "execution_count": null,
   "id": "6f15e535",
   "metadata": {},
   "outputs": [],
   "source": [
    "class TreeNode:\n",
    "    def __init__(self, val=0, left=None, right=None):\n",
    "        self.val = val\n",
    "        self.left = left\n",
    "        self.right = right"
   ]
  },
  {
   "cell_type": "code",
   "execution_count": null,
   "id": "406e50b8",
   "metadata": {},
   "outputs": [],
   "source": []
  },
  {
   "cell_type": "code",
   "execution_count": null,
   "id": "bc552a7b",
   "metadata": {},
   "outputs": [],
   "source": [
    "\n"
   ]
  },
  {
   "cell_type": "code",
   "execution_count": null,
   "id": "eb646711",
   "metadata": {},
   "outputs": [],
   "source": []
  },
  {
   "cell_type": "code",
   "execution_count": null,
   "id": "8726fbf3",
   "metadata": {},
   "outputs": [],
   "source": []
  },
  {
   "cell_type": "code",
   "execution_count": null,
   "id": "5aba9f67",
   "metadata": {},
   "outputs": [],
   "source": []
  },
  {
   "cell_type": "markdown",
   "id": "e6dfaf0e",
   "metadata": {},
   "source": [
    "# Closing Words\n",
    "\n",
    "This rounds up this week's introduction to DFS. I hope this notebook has beenbeen informative for you! "
   ]
  }
 ],
 "metadata": {
  "kernelspec": {
   "display_name": "Python 3 (ipykernel)",
   "language": "python",
   "name": "python3"
  },
  "language_info": {
   "codemirror_mode": {
    "name": "ipython",
    "version": 3
   },
   "file_extension": ".py",
   "mimetype": "text/x-python",
   "name": "python",
   "nbconvert_exporter": "python",
   "pygments_lexer": "ipython3",
   "version": "3.9.6"
  }
 },
 "nbformat": 4,
 "nbformat_minor": 5
}
