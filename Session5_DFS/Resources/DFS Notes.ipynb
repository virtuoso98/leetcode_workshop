{
 "cells": [
  {
   "cell_type": "markdown",
   "id": "de79084d",
   "metadata": {},
   "source": [
    "# Depth-First Search Resources\n",
    "\n",
    "This notebook contains notes for Depth-First Search (DFS), a very core traversal method in computer science. In general, this algorithm starts off at a root ndoe and explores as far as possible along each branch before performing backtracking (visiting other parts).\n",
    "\n",
    "This is contrasted with breadth-first search, which I will discuss in the next week. For now, this notebook is dedicated to introducing you to DFS in Python. Before Recursion in Python is a little less strict than in OCaml. Therefore, recursive notations can be freely placed anywhere in the code, as long as they make sense. In this notebook, I aim to:\n",
    "\n",
    "1. Tracing DFS Functions Using Recursion\n",
    "2. Introduce Binary Tree Constructs in Python\n",
    "3. Show you the L-R Traversal and R-L Traversal methods\n",
    "\n",
    "### Tracing DFS Functions Using Recursion\n",
    "\n",
    "Depth-first Search is a method of traversal which starts at the root node and explores it as deeply as much as possible before backtracking to other nodes. I will first illustrate this idea using the good old factorial function. "
   ]
  },
  {
   "cell_type": "code",
   "execution_count": 1,
   "id": "befb9114",
   "metadata": {},
   "outputs": [
    {
     "name": "stdout",
     "output_type": "stream",
     "text": [
      "Recursive call of fac(5)\n",
      "   Recursive call of fac(4)\n",
      "      Recursive call of fac(3)\n",
      "         Recursive call of fac(2)\n",
      "            Recursive call of fac(1)\n",
      "               Recursive call of fac(0)\n",
      "               Hit Base case\n",
      "            Answer for fac(1): 1\n",
      "         Answer for fac(2): 2\n",
      "      Answer for fac(3): 6\n",
      "   Answer for fac(4): 24\n",
      "Answer for fac(5): 120\n"
     ]
    },
    {
     "data": {
      "text/plain": [
       "120"
      ]
     },
     "execution_count": 1,
     "metadata": {},
     "output_type": "execute_result"
    }
   ],
   "source": [
    "def fac(n, indent = 0):\n",
    "    print(indent * \" \" + \"Recursive call of fac({})\".format(n))\n",
    "    if n == 0:\n",
    "        print(indent * \" \" + \"Hit Base case\")\n",
    "        return 1\n",
    "    ans = n * fac(n - 1, indent + 3)\n",
    "    print(indent * \" \" + \"Answer for fac({}): \".format(n) + str(ans))\n",
    "    return ans\n",
    "\n",
    "fac(5)"
   ]
  },
  {
   "cell_type": "markdown",
   "id": "afa48258",
   "metadata": {},
   "source": []
  },
  {
   "cell_type": "markdown",
   "id": "88cc8ddf",
   "metadata": {},
   "source": [
    "### Recursion, DFS and Stacks\n",
    "\n",
    "You might be wondering why I'm choosing to trace such a simple function. Well, this is because recursion is the basis for DFS. As you have seen from the trace function, it explores from __fac(n)__ to __fac(n-1)__ until it hits the **base case** (The deepest node). While the factorial recursion is 1D in nature, this extends to data structures of further dimensions. \n",
    "\n",
    "This is not all. In fact, DFS Traversal methods follow the data queue order for **Stacks: Last in, First Out (LIFO)**. This is evident from the fact that the _deepest(last)_ node of the recursion is evaluated _first_, then the second last, and so on. This can be very useful if you need to do a problem from a DFS perspective, but recursion might not be a very suitable method for you.\n",
    "\n",
    "### Binary Tree Constructs in Python\n",
    "\n",
    "Next, I'd like to talk a little about Constructing a Binary Tree in Python. To recap, a Binary Tree can be expressed inductively as follows (Taken from Prof Danvy's notes): \n",
    "\n",
    "```\n",
    "type 'a binary_tree =\n",
    "  | Leaf of 'a\n",
    "  | Node of 'a binary_tree * 'a binary_tree;;\n",
    "```\n",
    "\n",
    "In Python though, we don't really associate ourselves with recursive specifications. Instead, it can be represented in code by the following:"
   ]
  },
  {
   "cell_type": "code",
   "execution_count": 3,
   "id": "6f15e535",
   "metadata": {},
   "outputs": [],
   "source": [
    "class TreeNode:\n",
    "    def __init__(self, val=0, left=None, right=None):\n",
    "        self.val = val\n",
    "        self.left = left\n",
    "        self.right = right"
   ]
  },
  {
   "cell_type": "markdown",
   "id": "175d31df",
   "metadata": {},
   "source": [
    "In other words, \n",
    "\n",
    "- A Binary Tree Contains a Node, which has a payload (value).\n",
    "- This Node can contain a reference to the left or right child nodes.\n",
    "- If the left or right child nodes is not present, then it is null (None)\n",
    "\n",
    "Now, let's go through some sample code on how to initialize Binary Trees and what nots. Feel like to experiment with binary trees by "
   ]
  },
  {
   "cell_type": "code",
   "execution_count": 13,
   "id": "bc552a7b",
   "metadata": {},
   "outputs": [
    {
     "name": "stdout",
     "output_type": "stream",
     "text": [
      "1. Initializing a Binary Tree Node\n",
      "\n",
      "If you'd like the value of the node, do not print the t (It's a Python Object:)\n",
      "Output of print(t):  <__main__.TreeNode object at 0x0000014A7352AAF0>\n",
      "\n",
      "Instead, print the value inside: \n",
      "Output of print(t.val): 3\n",
      "\n",
      "\n",
      "2. Extending your Node \n",
      "Value of right node of t:  4\n",
      "Value of left node of t:  0\n"
     ]
    }
   ],
   "source": [
    "print(\"1. Initializing a Binary Tree Node\")\n",
    "t = TreeNode(3)\n",
    "print(\"\\nIf you'd like the value of the node, do not print the t (It's a Python Object:)\")\n",
    "print(\"Output of print(t): \", t)\n",
    "\n",
    "print(\"\\nInstead, print the value inside: \")\n",
    "print(\"Output of print(t.val):\", t.val)\n",
    "\n",
    "print(\"\\n\\n2. Extending your Node \")\n",
    "t.right = TreeNode(4)\n",
    "print(\"Value of right node of t: \", t.right.val)\n",
    "t.left = TreeNode(0)\n",
    "print(\"Value of left node of t: \", t.left.val)"
   ]
  },
  {
   "cell_type": "code",
   "execution_count": 16,
   "id": "eb646711",
   "metadata": {},
   "outputs": [
    {
     "ename": "AttributeError",
     "evalue": "'int' object has no attribute 'right'",
     "output_type": "error",
     "traceback": [
      "\u001b[1;31m---------------------------------------------------------------------------\u001b[0m",
      "\u001b[1;31mAttributeError\u001b[0m                            Traceback (most recent call last)",
      "\u001b[1;32m~\\AppData\\Local\\Temp/ipykernel_6500/2853527061.py\u001b[0m in \u001b[0;36m<module>\u001b[1;34m\u001b[0m\n\u001b[0;32m      4\u001b[0m \u001b[0mt\u001b[0m \u001b[1;33m=\u001b[0m \u001b[0mTreeNode\u001b[0m\u001b[1;33m(\u001b[0m\u001b[1;36m3\u001b[0m\u001b[1;33m)\u001b[0m\u001b[1;33m\u001b[0m\u001b[1;33m\u001b[0m\u001b[0m\n\u001b[0;32m      5\u001b[0m \u001b[0mt\u001b[0m\u001b[1;33m.\u001b[0m\u001b[0mright\u001b[0m \u001b[1;33m=\u001b[0m \u001b[1;36m2\u001b[0m\u001b[1;33m\u001b[0m\u001b[1;33m\u001b[0m\u001b[0m\n\u001b[1;32m----> 6\u001b[1;33m \u001b[0mt\u001b[0m\u001b[1;33m.\u001b[0m\u001b[0mright\u001b[0m\u001b[1;33m.\u001b[0m\u001b[0mright\u001b[0m \u001b[1;33m=\u001b[0m \u001b[1;36m4\u001b[0m\u001b[1;33m\u001b[0m\u001b[1;33m\u001b[0m\u001b[0m\n\u001b[0m",
      "\u001b[1;31mAttributeError\u001b[0m: 'int' object has no attribute 'right'"
     ]
    }
   ],
   "source": [
    "# Don't do this! This is a reference to 2. Extending your Node. Remember that you are\n",
    "# extending the tree node to a new node, not the value that's inside! This will give an error\n",
    "# when trying to extend a node from that node. \n",
    "t = TreeNode(3)\n",
    "t.right = 2\n",
    "t.right.right = 4"
   ]
  },
  {
   "cell_type": "markdown",
   "id": "b62bed30",
   "metadata": {},
   "source": [
    "Last but not last, I'd like to talk about depth-first traversals from left to right and right to left. I've coded the tree in this structure, so just follow through with the trace!\n",
    "\n",
    "Disclaimer: Please don't follow what I'm doing. I'm just manually constructing the tree so you can follow the trace:"
   ]
  },
  {
   "cell_type": "raw",
   "id": "15eb0730",
   "metadata": {},
   "source": [
    "   0\n",
    "  / \\\n",
    " 1   2\n",
    "    / \\\n",
    "   3   4\n",
    "  / \\\n",
    " 5   6"
   ]
  },
  {
   "cell_type": "code",
   "execution_count": 29,
   "id": "5aba9f67",
   "metadata": {},
   "outputs": [
    {
     "name": "stdout",
     "output_type": "stream",
     "text": [
      "Current Value, L-R:  0\n",
      "Current Value, L-R:  1\n",
      "Current Value, L-R:  2\n",
      "Current Value, L-R:  3\n",
      "Current Value, L-R:  5\n",
      "Current Value, L-R:  6\n",
      "Current Value, L-R:  4\n",
      "\n",
      "\n",
      "\n",
      "Current Value, R-L:  0\n",
      "Current Value, R-L:  2\n",
      "Current Value, R-L:  4\n",
      "Current Value, R-L:  3\n",
      "Current Value, R-L:  6\n",
      "Current Value, R-L:  5\n",
      "Current Value, R-L:  1\n"
     ]
    }
   ],
   "source": [
    "tree = TreeNode(0)\n",
    "tree.left = TreeNode(1)\n",
    "tree.right = TreeNode(2)\n",
    "tree.right.right = TreeNode(4)\n",
    "tree.right.left = TreeNode(3)\n",
    "tree.right.left.left = TreeNode(5)\n",
    "tree.right.left.right = TreeNode(6)\n",
    "\n",
    "def dfs_LR(t):\n",
    "    # or just if not t:\n",
    "    if t != None:\n",
    "        print(\"Current Value, L-R: \", t.val)\n",
    "    \n",
    "    if t.left != None:\n",
    "        dfs_LR(t.left)\n",
    "    \n",
    "    if t.right != None:\n",
    "        dfs_LR(t.right)\n",
    "        \n",
    "\n",
    "def dfs_RL(t):\n",
    "    # or just if not t:\n",
    "    if t != None:\n",
    "        print(\"Current Value, R-L: \", t.val)\n",
    "    \n",
    "    if t.right != None:\n",
    "        dfs_RL(t.right)\n",
    "    \n",
    "    if t.left != None:\n",
    "        dfs_RL(t.left)        \n",
    "    \n",
    "dfs_LR(tree)\n",
    "print('\\n\\n')\n",
    "dfs_RL(tree)"
   ]
  },
  {
   "cell_type": "markdown",
   "id": "e6dfaf0e",
   "metadata": {},
   "source": [
    "# Closing Words\n",
    "\n",
    "This rounds up this week's introduction to DFS. I hope this notebook has been an informative one for you! In order to get better at DFS and binary trees, please continue to practice questions related to this and work hard to get familiar!"
   ]
  }
 ],
 "metadata": {
  "kernelspec": {
   "display_name": "Python 3 (ipykernel)",
   "language": "python",
   "name": "python3"
  },
  "language_info": {
   "codemirror_mode": {
    "name": "ipython",
    "version": 3
   },
   "file_extension": ".py",
   "mimetype": "text/x-python",
   "name": "python",
   "nbconvert_exporter": "python",
   "pygments_lexer": "ipython3",
   "version": "3.9.6"
  }
 },
 "nbformat": 4,
 "nbformat_minor": 5
}
