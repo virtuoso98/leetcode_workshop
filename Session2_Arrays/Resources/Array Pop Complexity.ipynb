{
 "cells": [
  {
   "cell_type": "markdown",
   "id": "c4dfbad4",
   "metadata": {},
   "source": [
    "# Basic Operations with Python and Comparing Runtime\n",
    "\n",
    "In this small code section, I will go through some basic operations in arrays and demonstrate some of the runtime complexities that I have mentioned in my slides. If you need a basic crash course on python arrays and their syntax, please go to https://www.w3schools.com/python/python_arrays.asp. The main goal in this Notebook is to show you some observations about runtime.\n",
    "\n",
    "We first explore the complexity of popping the rightmost element with scaling data size."
   ]
  },
  {
   "cell_type": "code",
   "execution_count": 7,
   "id": "3bdd9571",
   "metadata": {},
   "outputs": [],
   "source": [
    "# Our stopwatch\n",
    "import timeit"
   ]
  },
  {
   "cell_type": "code",
   "execution_count": 8,
   "id": "76d65e60",
   "metadata": {},
   "outputs": [],
   "source": [
    "small = [1] * 10\n",
    "medium = [1] * 10000\n",
    "large = [1] * 100000000"
   ]
  },
  {
   "cell_type": "code",
   "execution_count": 9,
   "id": "c512041e",
   "metadata": {},
   "outputs": [
    {
     "name": "stdout",
     "output_type": "stream",
     "text": [
      "Rightpop: Time taken for array of length 10 \n",
      " 5.999999999062311e-07 s\n",
      "Rightpop: Time taken for array of length 10000 \n",
      " 3.999999975690116e-07 s\n",
      "Rightpop: Time taken for array of length 100000000 \n",
      " 8.699999995087637e-06 s\n"
     ]
    }
   ],
   "source": [
    "def measure_time_rightpop(arr):\n",
    "    # make copy so that original copy stays intact\n",
    "    copy = arr.copy()\n",
    "    start = timeit.default_timer()\n",
    "    copy.pop()\n",
    "    stop = timeit.default_timer()\n",
    "    print('Rightpop: Time taken for array of length', len(arr), '\\n', stop - start, 's')\n",
    "\n",
    "measure_time_rightpop(small)\n",
    "measure_time_rightpop(medium)\n",
    "measure_time_rightpop(large)"
   ]
  },
  {
   "cell_type": "markdown",
   "id": "eec4d72e",
   "metadata": {},
   "source": [
    "As you can see, their timings don't differ by much. Runtime doesn't scale with array size. What if we popped the leftmost element of the array? We find that runtime increases as array size increases. This is because the indexes have to shift to compensate!"
   ]
  },
  {
   "cell_type": "code",
   "execution_count": 10,
   "id": "f40fcf1a",
   "metadata": {},
   "outputs": [
    {
     "name": "stdout",
     "output_type": "stream",
     "text": [
      "Leftpop: Time taken for array of length 10 \n",
      " 1.1999999998124622e-06 s\n",
      "Leftpop: Time taken for array of length 10000 \n",
      " 6.3999999966313226e-06 s\n",
      "Leftpop: Time taken for array of length 100000000 \n",
      " 0.11165929999999946 s\n"
     ]
    }
   ],
   "source": [
    "def measure_time_leftpop(arr):\n",
    "    # make copy so that original copy stays intact\n",
    "    copy = arr.copy()\n",
    "    start = timeit.default_timer()\n",
    "    copy.pop(0)\n",
    "    stop = timeit.default_timer()\n",
    "    print('Leftpop: Time taken for array of length', len(arr), '\\n', stop - start, 's')\n",
    "\n",
    "measure_time_leftpop(small)\n",
    "measure_time_leftpop(medium)\n",
    "measure_time_leftpop(large)"
   ]
  },
  {
   "cell_type": "markdown",
   "id": "be1f3f1a",
   "metadata": {},
   "source": [
    "A similar effect is seen when popping in the middle:"
   ]
  },
  {
   "cell_type": "code",
   "execution_count": 11,
   "id": "9a45c34d",
   "metadata": {},
   "outputs": [
    {
     "name": "stdout",
     "output_type": "stream",
     "text": [
      "Middlepop: Time taken for array of length 10 \n",
      " 1.1999999998124622e-06 s\n",
      "Middlepop: Time taken for array of length 10000 \n",
      " 2.9999999995311555e-06 s\n",
      "Middlepop: Time taken for array of length 100000000 \n",
      " 0.04560370000000091 s\n"
     ]
    }
   ],
   "source": [
    "def measure_time_middlepop(arr):\n",
    "    # make copy so that original copy stays intact\n",
    "    copy = arr.copy()\n",
    "    start = timeit.default_timer()\n",
    "    copy.pop(len(copy) // 2)\n",
    "    stop = timeit.default_timer()\n",
    "    print('Middlepop: Time taken for array of length', len(arr), '\\n', stop - start, 's')\n",
    "\n",
    "measure_time_middlepop(small)\n",
    "measure_time_middlepop(medium)\n",
    "measure_time_middlepop(large)"
   ]
  },
  {
   "cell_type": "markdown",
   "id": "c55b7a60",
   "metadata": {},
   "source": [
    "If you wish, you may check that similar rules apply for appending operations on the array. In mathematical terms, this exercise is left as an exercise to the reader. Lastly, I'd like to go through a very nifty python trick for swapping entries in an array. Previously, you'd usually store the value being overwritten first as a temporary variable, but we have a short hand here:"
   ]
  },
  {
   "cell_type": "code",
   "execution_count": 12,
   "id": "368133a8",
   "metadata": {},
   "outputs": [
    {
     "name": "stdout",
     "output_type": "stream",
     "text": [
      "Initial, boomer: [1, 2, 3, 4]\n",
      "After (Boomer method): [3, 2, 1, 4]\n",
      "Initial, modern: [1, 2, 3, 4]\n",
      "After (Modern method): [3, 2, 1, 4]\n"
     ]
    }
   ],
   "source": [
    "def swap_for_boomers(arr, i, j):\n",
    "    print(\"Initial, boomer:\", arr)\n",
    "    temp = arr[i]\n",
    "    arr[i] = arr[j]\n",
    "    arr[j] = temp\n",
    "    print(\"After (Boomer method):\", arr)\n",
    "\n",
    "def swap_for_modern(arr, i, j):\n",
    "    print(\"Initial, modern:\", arr)\n",
    "    arr[i], arr[j] = arr[j], arr[i]\n",
    "    print(\"After (Modern method):\", arr)\n",
    "\n",
    "swap_for_boomers([1, 2, 3, 4], 0, 2)\n",
    "swap_for_modern([1, 2, 3, 4], 0, 2)"
   ]
  }
 ],
 "metadata": {
  "kernelspec": {
   "display_name": "Python 3 (ipykernel)",
   "language": "python",
   "name": "python3"
  },
  "language_info": {
   "codemirror_mode": {
    "name": "ipython",
    "version": 3
   },
   "file_extension": ".py",
   "mimetype": "text/x-python",
   "name": "python",
   "nbconvert_exporter": "python",
   "pygments_lexer": "ipython3",
   "version": "3.9.6"
  }
 },
 "nbformat": 4,
 "nbformat_minor": 5
}
