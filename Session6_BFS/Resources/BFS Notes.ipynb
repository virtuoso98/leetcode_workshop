{
 "cells": [
  {
   "cell_type": "markdown",
   "id": "c7498dfc",
   "metadata": {},
   "source": [
    "# Breadth-First Search Resources\n",
    "\n",
    "Hello! In my second last notebook, I will introducing you to Breadth-First Search(BFS). Last week, we went through Depth-first search. It starts at a tree root and explores **all nodes** at the **present depth** before moving on to the moves at the next level and so on.\n",
    "\n",
    "While this notebook is dedicated to showing you BFS on Binary Trees, please be aware that this way of traversal is not limited to Trees, but any 2D or higher-dimensional data structure such as matrices can also be traversed using breadth-first search. \n",
    "\n",
    "However, this cannot be done in a purely recursive (LIFO) manner. We need some data structure that allows us to a keep a **reference to nodes that we want to come back to**, even though we might not have visited them yet. This can be done using queues, which allow for the FIFO (First in, First out) configuration. While Python does not naturally come with queues, they have a native package called collections, which contains deque. Please click on the link below to learn more\n",
    "\n",
    "#### <a href=\"geeksforgeeks.org/deque-in-python/\">Introduction to Python's Deque </a>\n",
    "\n",
    "## Implementations in Binary Trees\n",
    "\n",
    "Albeit slightly briefer than before, I will show you how BFS for Binary Trees can be implemented in Python. As usual, I will be following the tree structure as seen below.\n",
    "\n",
    "Firstly, I aim to show you the ways of doing pure L-R and R-L BFS. Next, I aim to show you a very handy way of traversing this binary tree. Further, I can also show some fun extensions. "
   ]
  },
  {
   "cell_type": "raw",
   "id": "16f28142",
   "metadata": {},
   "source": [
    "   0\n",
    "  / \\\n",
    " 1   2\n",
    "    / \\\n",
    "   3   4\n",
    "  / \\\n",
    " 5   6"
   ]
  },
  {
   "cell_type": "code",
   "execution_count": 4,
   "id": "cd3ccbc2",
   "metadata": {},
   "outputs": [
    {
     "name": "stdout",
     "output_type": "stream",
     "text": [
      "BFS, L-R:  0\n",
      "BFS, L-R:  1\n",
      "BFS, L-R:  2\n",
      "BFS, L-R:  3\n",
      "BFS, L-R:  4\n",
      "BFS, L-R:  5\n",
      "BFS, L-R:  6\n",
      "\n",
      "\n",
      "\n",
      "BFS, R-L:  0\n",
      "BFS, R-L:  2\n",
      "BFS, R-L:  1\n",
      "BFS, R-L:  4\n",
      "BFS, R-L:  3\n",
      "BFS, R-L:  6\n",
      "BFS, R-L:  5\n"
     ]
    }
   ],
   "source": [
    "# Initiation of Tree\n",
    "\n",
    "class TreeNode:\n",
    "    def __init__(self, val=0, left=None, right=None):\n",
    "        self.val = val\n",
    "        self.left = left\n",
    "        self.right = right\n",
    "\n",
    "tree = TreeNode(0)\n",
    "tree.left = TreeNode(1)\n",
    "tree.right = TreeNode(2)\n",
    "tree.right.right = TreeNode(4)\n",
    "tree.right.left = TreeNode(3)\n",
    "tree.right.left.left = TreeNode(5)\n",
    "tree.right.left.right = TreeNode(6)\n",
    "\n",
    "# Initiation of BFS\n",
    "\n",
    "from collections import deque\n",
    "\n",
    "def bfs_LR(root):\n",
    "    if not root:\n",
    "        return\n",
    "    q = deque()\n",
    "    q.append(root)\n",
    "    while len(q) != 0:\n",
    "        node = q.popleft()\n",
    "        print(\"BFS, L-R: \", node.val)\n",
    "        if node.left:\n",
    "            q.append(node.left)\n",
    "        if node.right:\n",
    "            q.append(node.right)\n",
    "\n",
    "def bfs_RL(root):\n",
    "    if not root:\n",
    "        return\n",
    "    q = deque()\n",
    "    q.append(root)\n",
    "    while len(q) != 0:\n",
    "        node = q.popleft()\n",
    "        print(\"BFS, R-L: \", node.val)\n",
    "        if node.right:\n",
    "            q.append(node.right)\n",
    "        if node.left:\n",
    "            q.append(node.left)\n",
    "            \n",
    "bfs_LR(tree)\n",
    "print('\\n\\n')\n",
    "bfs_RL(tree)"
   ]
  },
  {
   "cell_type": "markdown",
   "id": "7a5ba3fa",
   "metadata": {},
   "source": [
    "## Tracking the numbers of nodes at each level\n",
    "\n",
    "From here on out, there are more interesting things you can do about queues. Since it visits in a breadth first manner, you can use this to track the number of nodes at each depth. I'll give you the sample implementation for this and feel free to ask me any questions pertaining to this implementation. "
   ]
  },
  {
   "cell_type": "code",
   "execution_count": null,
   "id": "2f95db32",
   "metadata": {},
   "outputs": [],
   "source": [
    "from collections import deque\n",
    "\n",
    "def bfs_LR(root):\n",
    "    if not root:\n",
    "        return\n",
    "    q = deque()\n",
    "    q.append(root)\n",
    "    while len(q) != 0:\n",
    "        width = len(q)\n",
    "        for i in range(width):\n",
    "            node = q.popleft()\n",
    "            print(\"BFS, L-R: \", node.val)\n",
    "            if node.left:\n",
    "                q.append(node.left)\n",
    "            if node.right:\n",
    "                q.append(node.right)\n",
    "\n",
    "def bfs_RL(root):\n",
    "    if not root:\n",
    "        return\n",
    "    q = deque()\n",
    "    q.append(root)\n",
    "    while len(q) != 0:\n",
    "        width = len(q)\n",
    "        for i in range(width):\n",
    "            node = q.popleft()\n",
    "            print(\"BFS, R-L: \", node.val)\n",
    "            if node.right:\n",
    "                q.append(node.right)\n",
    "            if node.left:\n",
    "                q.append(node.left)"
   ]
  },
  {
   "cell_type": "markdown",
   "id": "4ca65a26",
   "metadata": {},
   "source": [
    "That's it for this week's session. I hope that you'll use this deque method to continue solving problems in take away the basic of leetcoding \n",
    "\n",
    "We're almost there. One more week guys! :)"
   ]
  }
 ],
 "metadata": {
  "kernelspec": {
   "display_name": "Python 3 (ipykernel)",
   "language": "python",
   "name": "python3"
  },
  "language_info": {
   "codemirror_mode": {
    "name": "ipython",
    "version": 3
   },
   "file_extension": ".py",
   "mimetype": "text/x-python",
   "name": "python",
   "nbconvert_exporter": "python",
   "pygments_lexer": "ipython3",
   "version": "3.9.6"
  }
 },
 "nbformat": 4,
 "nbformat_minor": 5
}
